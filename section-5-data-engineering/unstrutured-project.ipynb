{
 "cells": [
  {
   "cell_type": "markdown",
   "id": "71f2720f-aadf-4a0b-a975-55a2e5f1d206",
   "metadata": {},
   "source": [
    "# What is a data enginner?\n",
    "- data mining \n",
    "- big data\n",
    "- data pipeline\n",
    "\n",
    "Data engineers main job is to COLLECT THE DATA FROM MANY SOURCES and store then in the best way for ML enginners or Data Analysts to consume. They create data consuming, transforming and storing pipelines as their main job.\n",
    "- Data injestion (getting the data)\n",
    "- Creating data lakes (collecting / storing the data)\n",
    "- Data transformation and store in a data warehouse - from the data warehouse other parts of the business can use\n",
    "\n",
    "Tools:\n",
    "- Collecting Data (injestion) - Apache Kafka\n",
    "- Data Lakes - S3, Hadoop, Azure Data Lake\n",
    "- Warehouse - AWS Athena, Google Big Query, AWS Redshift\n",
    "\n",
    "Data enginners build ETL pipelines. EXTRACT, TRANSFORM, LOAD PIPELINES\n",
    "\n",
    "Databases (Databases are essentially computers that persist data that we store)\n",
    "- Relational Databses\n",
    "- NoSQL\n",
    "- NewSQL (Try to get the best of both world above)\n",
    "\n",
    "There are also databases used separately for different needs. For example: \n",
    "- SEARCH \n",
    "- Computation\n",
    "\n",
    "Know the difference between OLTP (where a user interacts with via a web app for example) and OLAP (Analytical purposes)\n",
    "\n",
    "Hadoop\n",
    "- Open source distributed processing framework\n",
    "- Data processing and storage\n",
    "- All BIG DATA related\n",
    "- It's essentially a data lake\n",
    "- Look at HDFS (Hadoop Distributed File System) -- very scalable and able to store data in a distributed mannar\n",
    "- MAPREDUCE - allow to run batch jobs in these distributed data; Basically batch processing (Apache spark is a BETTER alternative)\n",
    "\n",
    "Apache Spark\n",
    "- Improvement of MapReduce\n",
    "- Can run jobs much faster than MapReduce\n",
    "- Not real time processing, it's batch processing (which is schedule based)\n",
    "\n",
    "Apache Flink and Kafka\n",
    "- REAL TIME STREAM PROCESSING (pretty new but vert exciting)\n",
    "- THis is beoming very popular!\n",
    "- KAFKA is a very popular tool for this as well! Kafka is pretty similar to AWS Kinesis\n",
    "    - It just takes the data from all the sources and pass it into other sources (storage centers or transformation pipelines)"
   ]
  },
  {
   "cell_type": "code",
   "execution_count": null,
   "id": "629f9b41-aa01-487b-9483-2e4163cc38c7",
   "metadata": {},
   "outputs": [],
   "source": []
  }
 ],
 "metadata": {
  "kernelspec": {
   "display_name": "Python 3",
   "language": "python",
   "name": "python3"
  },
  "language_info": {
   "codemirror_mode": {
    "name": "ipython",
    "version": 3
   },
   "file_extension": ".py",
   "mimetype": "text/x-python",
   "name": "python",
   "nbconvert_exporter": "python",
   "pygments_lexer": "ipython3",
   "version": "3.9.6"
  }
 },
 "nbformat": 4,
 "nbformat_minor": 5
}
