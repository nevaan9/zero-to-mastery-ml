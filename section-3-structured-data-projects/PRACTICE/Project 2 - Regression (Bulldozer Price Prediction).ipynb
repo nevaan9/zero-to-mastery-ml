{
 "cells": [
  {
   "cell_type": "code",
   "execution_count": 1,
   "id": "602c3cea",
   "metadata": {},
   "outputs": [],
   "source": [
    "# First add the template\n",
    "# Problem, Data, Evaluation, Features etc etc"
   ]
  },
  {
   "cell_type": "code",
   "execution_count": 3,
   "id": "851087a2",
   "metadata": {},
   "outputs": [],
   "source": [
    "# EDA is very subjective process. Some people like to spend many hours on it, some peole just do it on a surface level\n",
    "# This is al up to you and how much you wanna UNDERSTAND your data (or rather some important relationships of your data)"
   ]
  },
  {
   "cell_type": "code",
   "execution_count": 4,
   "id": "8171e6ba",
   "metadata": {},
   "outputs": [],
   "source": [
    "# FEATURE ENGINEERING is an important part of ML - essentially making NEW COLUMNS from the ones that exist\n",
    "# Cool feature enginnering for dates - separate yea, month, day, dayOfWeek etc into different columns \n",
    "# https://pandas.pydata.org/pandas-docs/stable/user_guide/timeseries.html#time-date-components"
   ]
  },
  {
   "cell_type": "code",
   "execution_count": 5,
   "id": "1cc86211",
   "metadata": {},
   "outputs": [],
   "source": [
    "# CONVERT DATE_TIME into datetime objects when needed (this is almost always needed)"
   ]
  },
  {
   "cell_type": "code",
   "execution_count": 6,
   "id": "22f298dc",
   "metadata": {},
   "outputs": [],
   "source": [
    "# CONVERT STRINGS INTO CATEGORIES (because ML models can only understand numbers, and pandas under the hood treats categories as numbers)"
   ]
  },
  {
   "cell_type": "code",
   "execution_count": 7,
   "id": "f97fb8db",
   "metadata": {},
   "outputs": [],
   "source": [
    "# Daniel has a very nice way to FILL MISSING DATA (For NUMERICAL and CATEGORICAL VARIABLES!) - very cool"
   ]
  },
  {
   "cell_type": "markdown",
   "id": "9e24bb56",
   "metadata": {},
   "source": [
    "### Challenge: What's wrong with splitting data after filling it?\n",
    "In the previous few videos we worked on filling the missing data in the training and validation data before splitting it into training and validation sets using the following code:\n",
    "\n",
    "Split data into training and validation: \n",
    "\n",
    "df_val = df_tmp[df_tmp.saleYear == 2012]\n",
    "df_train = df_tmp[df_tmp.saleYear != 2012]\n",
    "The code worked but how might this interfere with our model?\n",
    "\n",
    "Remember the goal of machine learning: use the past to predict the future.\n",
    "\n",
    "So if our validation set is supposed to be representative of the future and we’re filling our training data using information from the validation set, what might this mean for our model?\n",
    "\n",
    "The challenge here comes in two parts.\n",
    "\n",
    "What does it mean if we fill our training data with information from the future (validation set)?\n",
    "\n",
    "How might you implement a fix to the current way things are being done in the project?\n",
    "\n",
    "If you need a hint, remember some takeaways from a previous lecture:\n",
    "\n",
    "Encode/transform all categorical variables of your data (on the entire dataset, this ensures categorical variables are encoded the same across training/test sets, if you can't do this, make sure the training and test sets have the same column names).\n",
    "\n",
    "Split your data (into train/test).\n",
    "\n",
    "Fill the training set and test set numerical values separately.\n",
    "\n",
    "Don’t use numerical data from the future (test set) to fill data from the past (training set).\n",
    "\n",
    "Keep these things in mind when we create a data preprocessing function in a few videos time, they'll help you answer the question which gets raised then too."
   ]
  },
  {
   "cell_type": "code",
   "execution_count": 8,
   "id": "1fecd2f9",
   "metadata": {},
   "outputs": [],
   "source": [
    "# IMPORTANT - If your .fit() fucntion is TAKING TOO LONG TO COMPUTE, you need to set the `max_samples` argument \n",
    "# This is essentially SUB-SETTING TRAINING DATA\n",
    "# to a lesser number. `max_samples` is a param you can pass to the 'RandomForestRegressor' fucntion\n",
    "# Different models might have a different name for this\n",
    "# Do research - https://scikit-learn.org/stable/modules/generated/sklearn.ensemble.RandomForestRegressor.html"
   ]
  },
  {
   "cell_type": "code",
   "execution_count": null,
   "id": "6dee69fe",
   "metadata": {},
   "outputs": [],
   "source": []
  }
 ],
 "metadata": {
  "kernelspec": {
   "display_name": "Python 3",
   "language": "python",
   "name": "python3"
  },
  "language_info": {
   "codemirror_mode": {
    "name": "ipython",
    "version": 3
   },
   "file_extension": ".py",
   "mimetype": "text/x-python",
   "name": "python",
   "nbconvert_exporter": "python",
   "pygments_lexer": "ipython3",
   "version": "3.9.6"
  }
 },
 "nbformat": 4,
 "nbformat_minor": 5
}
