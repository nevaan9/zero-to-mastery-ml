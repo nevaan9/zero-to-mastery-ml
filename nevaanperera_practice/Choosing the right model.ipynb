{
 "cells": [
  {
   "cell_type": "markdown",
   "id": "ac1c933d",
   "metadata": {},
   "source": [
    "## How do we choose the right model for an ML project?\n",
    "[Choosing an ML Flowchart](https://scikit-learn.org/stable/tutorial/machine_learning_map/index.html \"machine learning map\")\n",
    "   \n",
    "   - essentially follow some recources that ouline \"choosing a right ML model flow chart\" (above link is one)\n",
    "        - Get your data \n",
    "        - analyze it\n",
    "        - come up with a problem statment\n",
    "        - After you know what the question is (in most cases it will be a classification or regression problem)\n",
    "            - simply follow the flow chart (this is the starting point)"
   ]
  },
  {
   "cell_type": "code",
   "execution_count": 8,
   "id": "6394829a",
   "metadata": {},
   "outputs": [
    {
     "name": "stdout",
     "output_type": "stream",
     "text": [
      "<class 'pandas.core.frame.DataFrame'>\n",
      "RangeIndex: 20640 entries, 0 to 20639\n",
      "Data columns (total 8 columns):\n",
      " #   Column      Non-Null Count  Dtype  \n",
      "---  ------      --------------  -----  \n",
      " 0   MedInc      20640 non-null  float64\n",
      " 1   HouseAge    20640 non-null  float64\n",
      " 2   AveRooms    20640 non-null  float64\n",
      " 3   AveBedrms   20640 non-null  float64\n",
      " 4   Population  20640 non-null  float64\n",
      " 5   AveOccup    20640 non-null  float64\n",
      " 6   Latitude    20640 non-null  float64\n",
      " 7   Longitude   20640 non-null  float64\n",
      "dtypes: float64(8)\n",
      "memory usage: 1.3 MB\n",
      "None\n",
      "-----\n",
      "             MedInc      HouseAge      AveRooms     AveBedrms    Population      AveOccup      Latitude     Longitude\n",
      "count  20640.000000  20640.000000  20640.000000  20640.000000  20640.000000  20640.000000  20640.000000  20640.000000\n",
      "mean       3.870671     28.639486      5.429000      1.096675   1425.476744      3.070655     35.631861   -119.569704\n",
      "std        1.899822     12.585558      2.474173      0.473911   1132.462122     10.386050      2.135952      2.003532\n",
      "min        0.499900      1.000000      0.846154      0.333333      3.000000      0.692308     32.540000   -124.350000\n",
      "25%        2.563400     18.000000      4.440716      1.006079    787.000000      2.429741     33.930000   -121.800000\n",
      "50%        3.534800     29.000000      5.229129      1.048780   1166.000000      2.818116     34.260000   -118.490000\n",
      "75%        4.743250     37.000000      6.052381      1.099526   1725.000000      3.282261     37.710000   -118.010000\n",
      "max       15.000100     52.000000    141.909091     34.066667  35682.000000   1243.333333     41.950000   -114.310000\n",
      "-----\n",
      "count    20640.000000\n",
      "mean         2.068558\n",
      "std          1.153956\n",
      "min          0.149990\n",
      "25%          1.196000\n",
      "50%          1.797000\n",
      "75%          2.647250\n",
      "max          5.000010\n",
      "dtype: float64\n"
     ]
    }
   ],
   "source": [
    "# import the data\n",
    "from sklearn.datasets import fetch_california_housing\n",
    "import pandas as pd\n",
    "\n",
    "cali_housing = fetch_california_housing()\n",
    "X = pd.DataFrame(cali_housing['data'], columns=cali_housing['feature_names'])\n",
    "y = pd.Series(cali_housing['target'])\n",
    "\n",
    "print(X.info())\n",
    "print('-----')\n",
    "print(X.describe())\n",
    "print('-----')\n",
    "print(y.describe())"
   ]
  },
  {
   "cell_type": "code",
   "execution_count": 7,
   "id": "3794c73c",
   "metadata": {},
   "outputs": [
    {
     "data": {
      "text/plain": [
       "array([4.526, 3.585, 3.521, ..., 0.923, 0.847, 0.894])"
      ]
     },
     "execution_count": 7,
     "metadata": {},
     "output_type": "execute_result"
    }
   ],
   "source": [
    "y"
   ]
  },
  {
   "cell_type": "markdown",
   "id": "b20df5ed",
   "metadata": {},
   "source": [
    "### Now what?\n",
    "\n",
    "- Now go through the chart and fit a ML model\n",
    "- Seems like Ridge regressors is a good place to start (according to the chart)\n",
    "- if that does not work, go to ensemble regressors\n",
    "\n",
    "\n",
    "- WHICH MODELS PERFORM THE BEST?\n",
    "\t- According to Daniel in this course:\n",
    "\t\t- IF YOU HAVE STRUCTURED DATA (ESSENTIALLY DATA IN A DATA-FRAME ETC) -- USE ENSEMBLE METHODS (RANDOM-FOREST IS ONE OF THEM)\n",
    "\t\t- IF YOU HAVE UN-STRUCTURED DATA (AUDIO, IMAGES ETC): USE DEEP LEARNING OR TRANSFER LEARNING"
   ]
  },
  {
   "cell_type": "code",
   "execution_count": null,
   "id": "790abdcd",
   "metadata": {},
   "outputs": [],
   "source": []
  }
 ],
 "metadata": {
  "kernelspec": {
   "display_name": "Python 3",
   "language": "python",
   "name": "python3"
  },
  "language_info": {
   "codemirror_mode": {
    "name": "ipython",
    "version": 3
   },
   "file_extension": ".py",
   "mimetype": "text/x-python",
   "name": "python",
   "nbconvert_exporter": "python",
   "pygments_lexer": "ipython3",
   "version": "3.9.6"
  }
 },
 "nbformat": 4,
 "nbformat_minor": 5
}
