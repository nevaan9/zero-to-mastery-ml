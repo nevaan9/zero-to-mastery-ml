{
 "cells": [
  {
   "cell_type": "code",
   "execution_count": null,
   "id": "2ac9791f",
   "metadata": {},
   "outputs": [],
   "source": [
    "# Practice choosing the rigth model with bostom data set\n",
    "# Outline the whole process of how it goes\n",
    "\n",
    "# https://scikit-learn.org/stable/tutorial/machine_learning_map/index.html\n",
    "\n",
    "# Also just google \"choosing machine learning algorithm flow chart\", and see answers as needed"
   ]
  }
 ],
 "metadata": {
  "kernelspec": {
   "display_name": "Python 3",
   "language": "python",
   "name": "python3"
  },
  "language_info": {
   "codemirror_mode": {
    "name": "ipython",
    "version": 3
   },
   "file_extension": ".py",
   "mimetype": "text/x-python",
   "name": "python",
   "nbconvert_exporter": "python",
   "pygments_lexer": "ipython3",
   "version": "3.9.6"
  }
 },
 "nbformat": 4,
 "nbformat_minor": 5
}
